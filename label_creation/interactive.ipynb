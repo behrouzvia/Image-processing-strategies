{
 "cells": [
  {
   "cell_type": "code",
   "execution_count": 2,
   "id": "e361ba8c-7b2e-40f3-a20e-b0c5a8e9ce45",
   "metadata": {},
   "outputs": [],
   "source": [
    "import numpy\n",
    "import nibabel as nib\n",
    "import os\n",
    "import matplotlib.pyplot as plt"
   ]
  },
  {
   "cell_type": "markdown",
   "id": "f90d6849-55f1-4310-8a57-f6f267f2c2ca",
   "metadata": {},
   "source": [
    "# Label creation"
   ]
  },
  {
   "cell_type": "markdown",
   "id": "2b047e6d-c72c-43f3-9bc8-a055e00135f2",
   "metadata": {},
   "source": [
    "This section will guide you through how to create new labels.\n",
    "If you want, you can manually add a label in any desired location. For what you will only need a mask. </br>\n",
    "\n",
    "This examples addresses a, as of June 2024, current limitation from Total Seg CT, that is that we cannot differentiate CSF, WM or GM from the Spinal Cord. </br>\n",
    "\n",
    "Given that the labeling from anatomical image will have a specific value, when we add a new label we must add it with a value that is not included in the look up table. For example, for CT whole-body Total-Seg we must use a number higher than 117 to avoid conflicts. </br>\n",
    "\n",
    "\n",
    "Given the nature of my example I used Spinal Cord Toolbox (SCT): https://spinalcordtoolbox.com/index.html by De Leener B, Levy S, Dupont SM, Fonov VS, Stikov N, Louis Collins D, Callot V, Cohen-Adad J. SCT: Spinal Cord Toolbox, an open-source software for processing spinal cord MRI data. Neuroimage 2017. </br> \n",
    "In order to add them we need to first register the CT image to the PAM50 space. For this we can use the Spinal Cord segmentation and you can manually create landmarks of spine C2 and C5. With this files ready you can automatically register to PAM50 space and procede with creating new labels. </br> "
   ]
  },
  {
   "cell_type": "markdown",
   "id": "fa06aec3",
   "metadata": {},
   "source": [
    "**I.** The trick to add a new label to semgnetation is to first invert the values of the mask so that the ROI has value of 0 and everywhere else 1. </br> \n",
    "We then create a whole where we want the mask to be by multiplying it with our main labeled file."
   ]
  },
  {
   "cell_type": "code",
   "execution_count": null,
   "id": "88b36a16-916b-4026-be88-30d1ee203871",
   "metadata": {
    "editable": true,
    "slideshow": {
     "slide_type": ""
    },
    "tags": []
   },
   "outputs": [],
   "source": [
    "sct_maths -i new_label.nii.gz -o inv.nii.gz -sub 1\n",
    "sct_maths -i inv.nii.gz -o inv.nii.gz -mul -1\n",
    "sct_maths -i temp.nii.gz -o no_label.nii.gz -mul inv.nii.gz"
   ]
  },
  {
   "cell_type": "markdown",
   "id": "bdd83860-0029-408c-bdde-e06d0710ecc9",
   "metadata": {},
   "source": [
    "**II.** We need to make sure that the new label will have a non-conflictng value depending on the range of the look-up table. </br>\n",
    "*Note that we use temp as it is better to create a copy and edit the copy instead of the original.*"
   ]
  },
  {
   "cell_type": "code",
   "execution_count": 10,
   "id": "befb20bf-c09e-4015-9c97-accf104ba133",
   "metadata": {},
   "outputs": [],
   "source": [
    "#Now the body will have zeroes where the label is going to go\n",
    "# We need to set the value of the label to a number that \n",
    "# does not interfere with the look-up table\n",
    "# For this example, any number higher than 117 would work \n",
    "sct_maths -i reslice_label.nii.gz -o new_label.nii.gz -mul 16\n",
    "sct_maths -i new_label.nii.gz -o new_label.nii.gz -mul 16"
   ]
  },
  {
   "cell_type": "markdown",
   "id": "7800d4ca-014e-498e-bd95-8f70e78cfa3b",
   "metadata": {},
   "source": [
    "We choose to multiply twice because there is a maximum value of 40 to multiply in SCT_maths. We can then create a new nifti file with value of 256 for the mask and 0 elsewhere. </br>\n",
    "**III.** Then we just need to add the new label file to the file with a whole from the label we want to input."
   ]
  },
  {
   "cell_type": "code",
   "execution_count": null,
   "id": "370a25b6-fc7a-4505-8b6d-25efcf5e7691",
   "metadata": {},
   "outputs": [],
   "source": [
    "sct_maths -i no_label.nii.gz -o pro_labels.nii.gz -add new_label.nii.gz"
   ]
  },
  {
   "cell_type": "markdown",
   "id": "5709c6ce-4818-44b7-b7f6-1aef5caf011d",
   "metadata": {},
   "source": [
    "## Important notes\n",
    "- This procedure is not exclusive to SCT and can be perform with any tool of your preference!\n",
    "- Once a new label is created, if you want to add more labels you will have to work on top of any previously made new volume with added labels, so creating a temporal copy to test first is recommended. </br>\n",
    "- Also recommended, check the mask before multplication as I have deleted some files by multiplying inappropriate inversed masks. </br>\n",
    "- In the \"example\" folder you will find an example of a succesfull implementation of 2 new masks to the CT_wb data that adds labels 289 and 256 to the whole body dataset."
   ]
  }
 ],
 "metadata": {
  "kernelspec": {
   "display_name": "Python 3 (ipykernel)",
   "language": "python",
   "name": "python3"
  },
  "language_info": {
   "codemirror_mode": {
    "name": "ipython",
    "version": 3
   },
   "file_extension": ".py",
   "mimetype": "text/x-python",
   "name": "python",
   "nbconvert_exporter": "python",
   "pygments_lexer": "ipython3",
   "version": "3.10.11"
  }
 },
 "nbformat": 4,
 "nbformat_minor": 5
}
