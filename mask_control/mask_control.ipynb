{
 "cells": [
  {
   "cell_type": "code",
   "execution_count": 2,
   "id": "44965be3",
   "metadata": {},
   "outputs": [],
   "source": [
    "import numpy as np\n",
    "import pandas as pd\n",
    "import nibabel as nib\n",
    "import matplotlib.pyplot as plt"
   ]
  },
  {
   "cell_type": "code",
   "execution_count": 6,
   "id": "ed90ebde",
   "metadata": {},
   "outputs": [
    {
     "data": {
      "text/plain": [
       "(512, 512, 828)"
      ]
     },
     "execution_count": 6,
     "metadata": {},
     "output_type": "execute_result"
    }
   ],
   "source": [
    "path_database = \"gm_resamp_nn.nii.gz\"\n",
    "\n",
    "image_gt_data = nib.load(path_database)  # labels_total_seg.nii.gz\n",
    "image_gt = np.array(image_gt_data.get_fdata())\n",
    "image_gt.shape"
   ]
  },
  {
   "cell_type": "code",
   "execution_count": 7,
   "id": "2a67050b",
   "metadata": {},
   "outputs": [],
   "source": [
    "# Output file name choose now\n",
    "out_fn = \"sc_gm_324.nii.gz\""
   ]
  },
  {
   "cell_type": "code",
   "execution_count": 7,
   "id": "9741cf83",
   "metadata": {},
   "outputs": [],
   "source": [
    "# Code to force mask to be binarized\n",
    "# This seems to be an issue \n",
    "Size_X=(image_gt.shape)[0]\n",
    "Size_Y=(image_gt.shape)[1]\n",
    "Size_Z=(image_gt.shape)[2]\n",
    "img_new_LE=np.zeros((Size_X,Size_Y,Size_Z))\n",
    "\n",
    "for i in range(len(image_gt[:,0,0])):\n",
    "    for j in range( len(image_gt[0,:,0])):\n",
    "        for z in range( len(image_gt[0,0,:])):\n",
    "            if image_gt[i,j,z] > 0.5 :\n",
    "                img_new_LE[i,j,z] = 1\n",
    "                \n",
    "new_nifti_img = nib.Nifti1Image(img_new_LE, image_gt_data.affine)\n",
    "nib.save(new_nifti_img, out_fn)"
   ]
  },
  {
   "cell_type": "code",
   "execution_count": 8,
   "id": "8c9d6d43",
   "metadata": {},
   "outputs": [],
   "source": [
    "# This to force a value to be the only one\n",
    "# This happens when we multiply by a negative value with sct\n",
    "\n",
    "value = 324\n",
    "\n",
    "Size_X=(image_gt.shape)[0]\n",
    "Size_Y=(image_gt.shape)[1]\n",
    "Size_Z=(image_gt.shape)[2]\n",
    "img_new_LE=np.zeros((Size_X,Size_Y,Size_Z))\n",
    "\n",
    "for i in range(len(image_gt[:,0,0])):\n",
    "    for j in range( len(image_gt[0,:,0])):\n",
    "        for z in range( len(image_gt[0,0,:])):\n",
    "            if image_gt[i,j,z] > 0.5 :\n",
    "                img_new_LE[i,j,z] = value\n",
    "            else:\n",
    "              img_new_LE[i,j,z] = 0\n",
    "                \n",
    "new_nifti_img = nib.Nifti1Image(img_new_LE, image_gt_data.affine)\n",
    "nib.save(new_nifti_img, out_fn)"
   ]
  },
  {
   "cell_type": "markdown",
   "id": "dd4e4e72",
   "metadata": {},
   "source": [
    "*Special thank you to fellow Peruvian, researcher and friend N. Medina - Aix Marseille*"
   ]
  }
 ],
 "metadata": {
  "kernelspec": {
   "display_name": "Python 3",
   "language": "python",
   "name": "python3"
  },
  "language_info": {
   "codemirror_mode": {
    "name": "ipython",
    "version": 3
   },
   "file_extension": ".py",
   "mimetype": "text/x-python",
   "name": "python",
   "nbconvert_exporter": "python",
   "pygments_lexer": "ipython3",
   "version": "3.10.11"
  }
 },
 "nbformat": 4,
 "nbformat_minor": 5
}
