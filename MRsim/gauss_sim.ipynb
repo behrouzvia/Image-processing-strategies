{
 "cells": [
  {
   "cell_type": "markdown",
   "metadata": {},
   "source": [
    "## Simulation using Gaussian distributed volumes"
   ]
  },
  {
   "cell_type": "code",
   "execution_count": 1,
   "metadata": {},
   "outputs": [
    {
     "name": "stdout",
     "output_type": "stream",
     "text": [
      "c:\\Users\\User\\msc_project\\Image-processing-strategies\\MRsim\\utils\n",
      "c:\\Users\\User\\msc_project\\Image-processing-strategies\\MRsim\n"
     ]
    },
    {
     "name": "stderr",
     "output_type": "stream",
     "text": [
      "c:\\Users\\User\\miniconda3\\envs\\mrsim\\Lib\\site-packages\\IPython\\core\\magics\\osm.py:417: UserWarning: This is now an optional IPython functionality, setting dhist requires you to install the `pickleshare` library.\n",
      "  self.shell.db['dhist'] = compress_dhist(dhist)[-100:]\n"
     ]
    }
   ],
   "source": [
    "import numpy as np\n",
    "import nibabel as nib\n",
    "import os\n",
    "import matplotlib.pyplot as plt\n",
    "\n",
    "%cd utils\n",
    "from sim_functions import optimize_measurement\n",
    "%cd .."
   ]
  },
  {
   "cell_type": "code",
   "execution_count": 2,
   "metadata": {},
   "outputs": [
    {
     "data": {
      "text/plain": [
       "array([109, 129, 218])"
      ]
     },
     "execution_count": 2,
     "metadata": {},
     "output_type": "execute_result"
    }
   ],
   "source": [
    "# Edit the echo time (or list of echo times) and the flip angle:\n",
    "TE_list = [0.008, 0.0095]#, 0.011, 0.0125, 0.014, 0.0155]\n",
    "te_secs = [8, 9.5] # Using it in seconds to make it easier to run with texture on T2s values\n",
    "flip_ang = 24\n",
    "# The last requirement for the code is the dimensions, which can be easily acquired from the volume you work with\n",
    "# The dimensions needed because we will create a 4D array, where we will store the echo time data and we want to maintain the initial 3D dimensions.\n",
    "data = nib.load(\"data/ratatouille_crop.nii.gz\")\n",
    "np_data = data.get_fdata()\n",
    "dimensions = np.array(np_data.shape)\n",
    "dimensions"
   ]
  },
  {
   "cell_type": "code",
   "execution_count": 4,
   "metadata": {},
   "outputs": [],
   "source": [
    "# Loading the data, Gaussian distributed volumes\n",
    "g_pd= nib.load(\"data/gauss_pd_corr_dist.nii.gz\")\n",
    "gauss_pd_vol = g_pd.get_fdata()\n",
    "g_t2s = nib.load(\"data/gauss_t2s_corr_dist.nii.gz\")\n",
    "gauss_t2s_vol = g_t2s.get_fdata()\n",
    "#deltaB0 = nib.load(\"data/fieldmap_crop.nii.gz\")\n",
    "pro_deltaB0 = nib.load(\"output/realistic_fieldmap.nii.gz\")\n",
    "dB0 = pro_deltaB0.get_fdata()\n",
    "fieldStrength = 3\n",
    "# suppress warnings due to Overflow on exponential while iterating\n",
    "#import warnings\n",
    "#warnings.filterwarnings('ignore') "
   ]
  },
  {
   "cell_type": "code",
   "execution_count": 5,
   "metadata": {},
   "outputs": [],
   "source": [
    "# I think the problem is when we have T2s value sooooooooo low, like in the lungs and air where we have 0.01\n",
    "decay_gauss = np.zeros(dimensions)\n",
    "for i in range(dimensions[0]):\n",
    "    for j in range(dimensions[1]):\n",
    "        for k in range(dimensions[2]):\n",
    "            with np.errstate(over='raise'):\n",
    "                try:\n",
    "                    decay_gauss[i, j, k] = np.exp(-0.008 / gauss_t2s_vol[i, j, k])\n",
    "                except FloatingPointError:\n",
    "                    print(f\"Overflow detected at index ({i}, {j}, {k}) with T2* value {gauss_t2s_vol[i, j, k]}\")\n",
    "                    decay_gauss[i, j, k] = np.finfo(np.float64).max  # Assign max value or another placeholder"
   ]
  },
  {
   "cell_type": "code",
   "execution_count": 30,
   "metadata": {},
   "outputs": [
    {
     "name": "stderr",
     "output_type": "stream",
     "text": [
      "C:\\Users\\User\\AppData\\Local\\Temp\\ipykernel_83356\\1727653921.py:1: RuntimeWarning: overflow encountered in exp\n",
      "  np.exp(-0.008/-4.346339950507538e-06)\n"
     ]
    },
    {
     "data": {
      "text/plain": [
       "inf"
      ]
     },
     "execution_count": 30,
     "metadata": {},
     "output_type": "execute_result"
    }
   ],
   "source": [
    "#An example of what a values can rise a overflow in exponential\n",
    "# This value was in the T2s volume because the gaussian distribution centered at 0.01\n",
    "# Which was 'air' label created a few pixels with this offlayer values that caused the issue \n",
    "# returning infinity and hence ITK could not open the image\n",
    "#np.exp(-0.008/-4.346339950507538e-06)"
   ]
  },
  {
   "cell_type": "code",
   "execution_count": 5,
   "metadata": {},
   "outputs": [
    {
     "name": "stdout",
     "output_type": "stream",
     "text": [
      "Starting optimize_measurement\n",
      "Processing TE[0] = 0.008\n",
      "Starting optimized_signal\n",
      "sin:  0.4067366430758002\n",
      "handedness=left\n",
      "Coefficient of phase factor:  -6.420532498559999j\n",
      "Finished optimized_signal\n",
      "mag shape: (109, 129, 218), phase_arr shape: (109, 129, 218)\n",
      "Processing TE[1] = 0.0095\n",
      "Starting optimized_signal\n",
      "sin:  0.4067366430758002\n",
      "handedness=left\n",
      "Coefficient of phase factor:  -7.624382342039999j\n",
      "Finished optimized_signal\n",
      "mag shape: (109, 129, 218), phase_arr shape: (109, 129, 218)\n",
      "Finished optimize_measurement\n"
     ]
    }
   ],
   "source": [
    "# For gaussian data\n",
    "gauss_magnitude, gauss_phase = optimize_measurement(gauss_pd_vol, gauss_t2s_vol, dimensions, dB0, flip_ang, TE_list, fieldStrength)\n",
    "# By default, B0 should be 3 Tesla"
   ]
  },
  {
   "cell_type": "code",
   "execution_count": 6,
   "metadata": {},
   "outputs": [],
   "source": [
    "# Finally we save the magnitude and the phase to analyze them\n",
    "# Remember to change the name, if not it will overwrite it!\n",
    "# This version for gaussian distributed volumes\n",
    "temp_mag_g = nib.Nifti1Image(gauss_magnitude, affine=data.affine)\n",
    "temp_ph_g = nib.Nifti1Image(gauss_phase, affine=data.affine)\n",
    "path_mag_g = os.path.join('output','gauss_sim_mag.nii.gz')\n",
    "path_ph_g = os.path.join('output','gauss_sim_phase.nii.gz')\n",
    "nib.save(temp_mag_g, path_mag_g)\n",
    "nib.save(temp_ph_g, path_ph_g)"
   ]
  }
 ],
 "metadata": {
  "kernelspec": {
   "display_name": "Python 3",
   "language": "python",
   "name": "python3"
  },
  "language_info": {
   "codemirror_mode": {
    "name": "ipython",
    "version": 3
   },
   "file_extension": ".py",
   "mimetype": "text/x-python",
   "name": "python",
   "nbconvert_exporter": "python",
   "pygments_lexer": "ipython3",
   "version": "3.12.4"
  }
 },
 "nbformat": 4,
 "nbformat_minor": 2
}
