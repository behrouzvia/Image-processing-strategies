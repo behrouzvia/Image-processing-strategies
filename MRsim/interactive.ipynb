{
 "cells": [
  {
   "cell_type": "markdown",
   "id": "588bf96c-f6c2-403e-9f37-d0cd60692676",
   "metadata": {},
   "source": [
    "## Welcome to MR simulation \n",
    "In this interactive notebook I'll guide you through using 2 powerfull github repositories and code to simulate MR signal acquisition. </br>\n",
    "Credit to Eva Alonso Ortiz and Charles Pageot for *susceptibility-to-fieldmap-fft* "
   ]
  },
  {
   "cell_type": "markdown",
   "id": "fcf29b02-0254-413d-a91c-d1afef622f4a",
   "metadata": {},
   "source": [
    "### Importing and set-up!"
   ]
  },
  {
   "cell_type": "code",
   "execution_count": 1,
   "id": "e361ba8c-7b2e-40f3-a20e-b0c5a8e9ce45",
   "metadata": {},
   "outputs": [],
   "source": [
    "import numpy as np\n",
    "import nibabel as nib\n",
    "import os\n",
    "import matplotlib.pyplot as plt"
   ]
  },
  {
   "cell_type": "code",
   "execution_count": 2,
   "id": "43fec467",
   "metadata": {},
   "outputs": [
    {
     "name": "stderr",
     "output_type": "stream",
     "text": [
      "fatal: destination path 'tissue-to-MRproperty' already exists and is not an empty directory.\n"
     ]
    }
   ],
   "source": [
    "!git clone https://github.com/shimming-toolbox/tissue-to-MRproperty.git"
   ]
  },
  {
   "cell_type": "code",
   "execution_count": 4,
   "id": "8deb1379-346d-45fe-a4b0-b32529e0e19c",
   "metadata": {},
   "outputs": [],
   "source": [
    "!cd tissue-to-MRproperty"
   ]
  },
  {
   "cell_type": "code",
   "execution_count": 5,
   "id": "1a33680a-ae24-4f8e-ab3e-71410e89dbbf",
   "metadata": {},
   "outputs": [
    {
     "name": "stderr",
     "output_type": "stream",
     "text": [
      "ERROR: Directory '.' is not installable. Neither 'setup.py' nor 'pyproject.toml' found.\n"
     ]
    }
   ],
   "source": [
    "!pip install ."
   ]
  },
  {
   "cell_type": "code",
   "execution_count": 7,
   "id": "ede21554-2052-426e-82f5-5c8d7ec52763",
   "metadata": {},
   "outputs": [
    {
     "name": "stderr",
     "output_type": "stream",
     "text": [
      "Cloning into 'susceptibility-to-fieldmap-fft'...\n"
     ]
    }
   ],
   "source": [
    "!git clone https://github.com/shimming-toolbox/susceptibility-to-fieldmap-fft.git"
   ]
  },
  {
   "cell_type": "code",
   "execution_count": 6,
   "id": "3e6e8dbc-cde0-4793-a3f0-ae1f0f0f6560",
   "metadata": {},
   "outputs": [
    {
     "name": "stderr",
     "output_type": "stream",
     "text": [
      "ERROR: Directory '.' is not installable. Neither 'setup.py' nor 'pyproject.toml' found.\n"
     ]
    }
   ],
   "source": [
    "!cd susceptibility-to-fieldmap-fft\n",
    "!pip install ."
   ]
  },
  {
   "cell_type": "code",
   "execution_count": 19,
   "id": "1bd6140f-9d26-4f8b-abd0-b70747fd5698",
   "metadata": {},
   "outputs": [
    {
     "name": "stderr",
     "output_type": "stream",
     "text": [
      "ERROR: Directory '.' is not installable. Neither 'setup.py' nor 'pyproject.toml' found.\n"
     ]
    }
   ],
   "source": [
    "!pip install ."
   ]
  },
  {
   "cell_type": "code",
   "execution_count": 12,
   "id": "a641bd3c-41ec-445d-a10f-4efc2e06148f",
   "metadata": {},
   "outputs": [
    {
     "name": "stderr",
     "output_type": "stream",
     "text": [
      "Usage: tissue_to_MR [OPTIONS] INPUT_FILE [OUTPUT_FILE]\n",
      "Try 'tissue_to_MR --help' for help.\n",
      "\n",
      "Error: Missing argument 'INPUT_FILE'.\n"
     ]
    }
   ],
   "source": [
    "!tissue_to_mr"
   ]
  }
 ],
 "metadata": {
  "kernelspec": {
   "display_name": "Python 3 (ipykernel)",
   "language": "python",
   "name": "python3"
  },
  "language_info": {
   "codemirror_mode": {
    "name": "ipython",
    "version": 3
   },
   "file_extension": ".py",
   "mimetype": "text/x-python",
   "name": "python",
   "nbconvert_exporter": "python",
   "pygments_lexer": "ipython3",
   "version": "3.12.4"
  }
 },
 "nbformat": 4,
 "nbformat_minor": 5
}
