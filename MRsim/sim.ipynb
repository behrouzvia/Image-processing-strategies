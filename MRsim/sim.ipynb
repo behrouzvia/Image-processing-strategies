{
 "cells": [
  {
   "cell_type": "code",
   "execution_count": 1,
   "id": "dd40cd69-0c38-4aa0-96fd-acbab60a968e",
   "metadata": {},
   "outputs": [],
   "source": [
    "import numpy as np\n",
    "import nibabel as nib\n",
    "import os\n",
    "import matplotlib.pyplot as plt"
   ]
  },
  {
   "cell_type": "code",
   "execution_count": 2,
   "id": "218ff562-8ae7-453a-a323-ffe606bc37aa",
   "metadata": {},
   "outputs": [
    {
     "name": "stdout",
     "output_type": "stream",
     "text": [
      "C:\\Users\\User\\msc_project\\Image-processing-strategies\\MRsim\\utils\n",
      "C:\\Users\\User\\msc_project\\Image-processing-strategies\\MRsim\n"
     ]
    }
   ],
   "source": [
    "%cd utils\n",
    "from sim_functions import optimize_measurement\n",
    "%cd .."
   ]
  },
  {
   "cell_type": "code",
   "execution_count": 3,
   "id": "17b0f0d3-cfa8-4b50-8ac3-80c586c5e457",
   "metadata": {},
   "outputs": [
    {
     "data": {
      "text/plain": [
       "array([109, 129, 218])"
      ]
     },
     "execution_count": 3,
     "metadata": {},
     "output_type": "execute_result"
    }
   ],
   "source": [
    "# Edit the echo time (or list of echo times) and the flip angle:\n",
    "TE_list = [0.008, 0.0095]#, 0.011, 0.0125, 0.014, 0.0155]\n",
    "flip_ang = 24\n",
    "# The last requirement for the code is the dimensions, which can be easily acquired from the volume you work with\n",
    "# The dimensions needed because we will create a 4D array, where we will store the echo time data and we want to maintain the initial 3D dimensions.\n",
    "data = nib.load(\"data/ratatouille_crop.nii.gz\")\n",
    "np_data = data.get_fdata()\n",
    "dimensions = np.array(np_data.shape)\n",
    "dimensions"
   ]
  },
  {
   "cell_type": "code",
   "execution_count": 4,
   "id": "802a6e81-c9f3-43a6-949e-d33fbe803ac6",
   "metadata": {},
   "outputs": [
    {
     "name": "stdout",
     "output_type": "stream",
     "text": [
      "Starting optimize_measurement\n",
      "Processing TE[0] = 0.008\n",
      "Starting optimized_signal\n",
      "Finished optimized_signal\n",
      "mag shape: (109, 129, 218), phase_arr shape: (109, 129, 218)\n",
      "Processing TE[1] = 0.0095\n",
      "Starting optimized_signal\n",
      "Finished optimized_signal\n",
      "mag shape: (109, 129, 218), phase_arr shape: (109, 129, 218)\n",
      "Finished optimize_measurement\n"
     ]
    }
   ],
   "source": [
    "# Loading the data\n",
    "pd= nib.load(\"data/pd_volume_crop.nii.gz\")\n",
    "pd_vol = pd.get_fdata()\n",
    "t2s = nib.load(\"data/t2s_volume_crop.nii.gz\")\n",
    "t2s_vol = t2s.get_fdata()\n",
    "deltaB0 = nib.load(\"data/fieldmap_crop.nii.gz\")\n",
    "dB0 = deltaB0.get_fdata()\n",
    "magnitude, phase = optimize_measurement(pd_vol, t2s_vol,dimensions, dB0,flip_ang,TE_list) # By default, B0 is 3 Tesla"
   ]
  },
  {
   "cell_type": "code",
   "execution_count": 5,
   "id": "a22bacda-c66d-4844-9821-30be6fe38270",
   "metadata": {},
   "outputs": [],
   "source": [
    "# Finally we save the magnitude and the phase to analyze them\n",
    "temp_mag = nib.Nifti1Image(magnitude, affine=data.affine)\n",
    "temp_ph = nib.Nifti1Image(phase, affine=data.affine)\n",
    "path_mag = os.path.join('output','sim_mag.nii.gz')\n",
    "path_ph = os.path.join('output','sim_phase.nii.gz')\n",
    "nib.save(temp_mag, path_mag)\n",
    "nib.save(temp_ph, path_ph)"
   ]
  },
  {
   "cell_type": "code",
   "execution_count": null,
   "id": "75618881-8979-4601-948d-6c47c9cfdbdf",
   "metadata": {},
   "outputs": [],
   "source": []
  }
 ],
 "metadata": {
  "kernelspec": {
   "display_name": "Python 3 (ipykernel)",
   "language": "python",
   "name": "python3"
  },
  "language_info": {
   "codemirror_mode": {
    "name": "ipython",
    "version": 3
   },
   "file_extension": ".py",
   "mimetype": "text/x-python",
   "name": "python",
   "nbconvert_exporter": "python",
   "pygments_lexer": "ipython3",
   "version": "3.10.11"
  }
 },
 "nbformat": 4,
 "nbformat_minor": 5
}
