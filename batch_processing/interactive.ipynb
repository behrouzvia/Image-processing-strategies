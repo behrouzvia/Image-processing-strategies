{
 "cells": [
  {
   "cell_type": "code",
   "execution_count": 2,
   "id": "e361ba8c-7b2e-40f3-a20e-b0c5a8e9ce45",
   "metadata": {},
   "outputs": [],
   "source": [
    "import numpy\n",
    "import nibabel as nib\n",
    "import os\n",
    "import matplotlib.pyplot as plt"
   ]
  },
  {
   "cell_type": "markdown",
   "id": "f90d6849-55f1-4310-8a57-f6f267f2c2ca",
   "metadata": {},
   "source": [
    "# Batch processing MRI data with Total Segmentator MRI"
   ]
  },
  {
   "cell_type": "code",
   "execution_count": null,
   "id": "66a018f3",
   "metadata": {},
   "outputs": [],
   "source": []
  }
 ],
 "metadata": {
  "kernelspec": {
   "display_name": "Python 3 (ipykernel)",
   "language": "python",
   "name": "python3"
  },
  "language_info": {
   "codemirror_mode": {
    "name": "ipython",
    "version": 3
   },
   "file_extension": ".py",
   "mimetype": "text/x-python",
   "name": "python",
   "nbconvert_exporter": "python",
   "pygments_lexer": "ipython3",
   "version": "3.10.11"
  }
 },
 "nbformat": 4,
 "nbformat_minor": 5
}
